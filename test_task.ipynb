{
 "cells": [
  {
   "cell_type": "code",
   "execution_count": 1,
   "metadata": {},
   "outputs": [],
   "source": [
    "import pandas as pd\n",
    "import numpy as np\n",
    "import matplotlib\n",
    "import matplotlib.pyplot as plt\n",
    "import seaborn as sns"
   ]
  },
  {
   "cell_type": "code",
   "execution_count": 2,
   "metadata": {},
   "outputs": [],
   "source": [
    "#Настройка вывода кол. колонок\n",
    "pd.set_option(\"display.max_columns\",30)"
   ]
  },
  {
   "cell_type": "code",
   "execution_count": 3,
   "metadata": {},
   "outputs": [],
   "source": [
    "portrait_CG1 = pd.read_csv('portrait_CG1.csv',delimiter=';')\n",
    "payments_CG1 = pd.read_csv('payments_CG1.csv',delimiter=';')"
   ]
  },
  {
   "cell_type": "code",
   "execution_count": 4,
   "metadata": {},
   "outputs": [],
   "source": [
    "portrait_CG2 = pd.read_csv('portrait_CG2.csv',delimiter=';')\n",
    "payments_CG2 = pd.read_csv('payments_CG2.csv',delimiter=';')"
   ]
  },
  {
   "cell_type": "code",
   "execution_count": 5,
   "metadata": {},
   "outputs": [],
   "source": [
    "portrait_TG = pd.read_csv('portrait_TG.csv',delimiter=';')\n",
    "payments_TG = pd.read_csv('payments_TG.csv',delimiter=';')"
   ]
  },
  {
   "cell_type": "code",
   "execution_count": 6,
   "metadata": {},
   "outputs": [
    {
     "data": {
      "text/html": [
       "<div>\n",
       "<style scoped>\n",
       "    .dataframe tbody tr th:only-of-type {\n",
       "        vertical-align: middle;\n",
       "    }\n",
       "\n",
       "    .dataframe tbody tr th {\n",
       "        vertical-align: top;\n",
       "    }\n",
       "\n",
       "    .dataframe thead th {\n",
       "        text-align: right;\n",
       "    }\n",
       "</style>\n",
       "<table border=\"1\" class=\"dataframe\">\n",
       "  <thead>\n",
       "    <tr style=\"text-align: right;\">\n",
       "      <th></th>\n",
       "      <th>user_id</th>\n",
       "      <th>age</th>\n",
       "      <th>attraction_distribution</th>\n",
       "      <th>coins</th>\n",
       "      <th>country</th>\n",
       "      <th>retention_days</th>\n",
       "      <th>sex</th>\n",
       "      <th>user_dating.age_start</th>\n",
       "      <th>user_dating.age_end</th>\n",
       "      <th>view_count</th>\n",
       "      <th>was_special</th>\n",
       "      <th>is_special</th>\n",
       "      <th>total_revenue</th>\n",
       "    </tr>\n",
       "  </thead>\n",
       "  <tbody>\n",
       "    <tr>\n",
       "      <th>0</th>\n",
       "      <td>892319115</td>\n",
       "      <td>25</td>\n",
       "      <td>435</td>\n",
       "      <td>NaN</td>\n",
       "      <td>US</td>\n",
       "      <td>1,2,3,4,5,6</td>\n",
       "      <td>0</td>\n",
       "      <td>22</td>\n",
       "      <td>32</td>\n",
       "      <td>982</td>\n",
       "      <td>NaN</td>\n",
       "      <td>NaN</td>\n",
       "      <td>0</td>\n",
       "    </tr>\n",
       "    <tr>\n",
       "      <th>1</th>\n",
       "      <td>891248523</td>\n",
       "      <td>29</td>\n",
       "      <td>500</td>\n",
       "      <td>NaN</td>\n",
       "      <td>US</td>\n",
       "      <td>1,2</td>\n",
       "      <td>1</td>\n",
       "      <td>26</td>\n",
       "      <td>32</td>\n",
       "      <td>12</td>\n",
       "      <td>NaN</td>\n",
       "      <td>NaN</td>\n",
       "      <td>0</td>\n",
       "    </tr>\n",
       "    <tr>\n",
       "      <th>2</th>\n",
       "      <td>891670932</td>\n",
       "      <td>33</td>\n",
       "      <td>800</td>\n",
       "      <td>NaN</td>\n",
       "      <td>FR</td>\n",
       "      <td>1,2,3,5,6,8,9,11,13,16</td>\n",
       "      <td>1</td>\n",
       "      <td>30</td>\n",
       "      <td>36</td>\n",
       "      <td>5</td>\n",
       "      <td>NaN</td>\n",
       "      <td>NaN</td>\n",
       "      <td>0</td>\n",
       "    </tr>\n",
       "    <tr>\n",
       "      <th>3</th>\n",
       "      <td>891060786</td>\n",
       "      <td>26</td>\n",
       "      <td>0</td>\n",
       "      <td>NaN</td>\n",
       "      <td>AR</td>\n",
       "      <td>1,2,3,4,5</td>\n",
       "      <td>1</td>\n",
       "      <td>23</td>\n",
       "      <td>29</td>\n",
       "      <td>0</td>\n",
       "      <td>NaN</td>\n",
       "      <td>NaN</td>\n",
       "      <td>0</td>\n",
       "    </tr>\n",
       "    <tr>\n",
       "      <th>4</th>\n",
       "      <td>892006554</td>\n",
       "      <td>35</td>\n",
       "      <td>294</td>\n",
       "      <td>NaN</td>\n",
       "      <td>US</td>\n",
       "      <td>1,2,3,5,6,7,8,9,10,12,15,16,17,19</td>\n",
       "      <td>1</td>\n",
       "      <td>30</td>\n",
       "      <td>40</td>\n",
       "      <td>17</td>\n",
       "      <td>NaN</td>\n",
       "      <td>NaN</td>\n",
       "      <td>0</td>\n",
       "    </tr>\n",
       "  </tbody>\n",
       "</table>\n",
       "</div>"
      ],
      "text/plain": [
       "     user_id  age  attraction_distribution  coins country  \\\n",
       "0  892319115   25                      435    NaN      US   \n",
       "1  891248523   29                      500    NaN      US   \n",
       "2  891670932   33                      800    NaN      FR   \n",
       "3  891060786   26                        0    NaN      AR   \n",
       "4  892006554   35                      294    NaN      US   \n",
       "\n",
       "                      retention_days  sex  user_dating.age_start  \\\n",
       "0                        1,2,3,4,5,6    0                     22   \n",
       "1                                1,2    1                     26   \n",
       "2             1,2,3,5,6,8,9,11,13,16    1                     30   \n",
       "3                          1,2,3,4,5    1                     23   \n",
       "4  1,2,3,5,6,7,8,9,10,12,15,16,17,19    1                     30   \n",
       "\n",
       "   user_dating.age_end  view_count  was_special  is_special  total_revenue  \n",
       "0                   32         982          NaN         NaN              0  \n",
       "1                   32          12          NaN         NaN              0  \n",
       "2                   36           5          NaN         NaN              0  \n",
       "3                   29           0          NaN         NaN              0  \n",
       "4                   40          17          NaN         NaN              0  "
      ]
     },
     "execution_count": 6,
     "metadata": {},
     "output_type": "execute_result"
    }
   ],
   "source": [
    "portrait_CG1.head()"
   ]
  },
  {
   "cell_type": "code",
   "execution_count": 7,
   "metadata": {},
   "outputs": [
    {
     "data": {
      "text/html": [
       "<div>\n",
       "<style scoped>\n",
       "    .dataframe tbody tr th:only-of-type {\n",
       "        vertical-align: middle;\n",
       "    }\n",
       "\n",
       "    .dataframe tbody tr th {\n",
       "        vertical-align: top;\n",
       "    }\n",
       "\n",
       "    .dataframe thead th {\n",
       "        text-align: right;\n",
       "    }\n",
       "</style>\n",
       "<table border=\"1\" class=\"dataframe\">\n",
       "  <thead>\n",
       "    <tr style=\"text-align: right;\">\n",
       "      <th></th>\n",
       "      <th>user_id</th>\n",
       "      <th>age</th>\n",
       "      <th>attraction_distribution</th>\n",
       "      <th>coins</th>\n",
       "      <th>country</th>\n",
       "      <th>retention_days</th>\n",
       "      <th>sex</th>\n",
       "      <th>user_dating.age_start</th>\n",
       "      <th>user_dating.age_end</th>\n",
       "      <th>view_count</th>\n",
       "      <th>was_special</th>\n",
       "      <th>is_special</th>\n",
       "      <th>total_revenue</th>\n",
       "    </tr>\n",
       "  </thead>\n",
       "  <tbody>\n",
       "    <tr>\n",
       "      <th>0</th>\n",
       "      <td>892035504</td>\n",
       "      <td>37</td>\n",
       "      <td>137</td>\n",
       "      <td>NaN</td>\n",
       "      <td>IL</td>\n",
       "      <td>1,2,3,4,5,6,7,8,9,11,13</td>\n",
       "      <td>1</td>\n",
       "      <td>30</td>\n",
       "      <td>40</td>\n",
       "      <td>51</td>\n",
       "      <td>NaN</td>\n",
       "      <td>NaN</td>\n",
       "      <td>0</td>\n",
       "    </tr>\n",
       "    <tr>\n",
       "      <th>1</th>\n",
       "      <td>891782112</td>\n",
       "      <td>57</td>\n",
       "      <td>0</td>\n",
       "      <td>NaN</td>\n",
       "      <td>IT</td>\n",
       "      <td>1</td>\n",
       "      <td>1</td>\n",
       "      <td>54</td>\n",
       "      <td>60</td>\n",
       "      <td>0</td>\n",
       "      <td>NaN</td>\n",
       "      <td>NaN</td>\n",
       "      <td>0</td>\n",
       "    </tr>\n",
       "    <tr>\n",
       "      <th>2</th>\n",
       "      <td>891110337</td>\n",
       "      <td>30</td>\n",
       "      <td>769</td>\n",
       "      <td>NaN</td>\n",
       "      <td>FR</td>\n",
       "      <td>1,2,3,4,5</td>\n",
       "      <td>1</td>\n",
       "      <td>27</td>\n",
       "      <td>33</td>\n",
       "      <td>13</td>\n",
       "      <td>NaN</td>\n",
       "      <td>NaN</td>\n",
       "      <td>0</td>\n",
       "    </tr>\n",
       "    <tr>\n",
       "      <th>3</th>\n",
       "      <td>891796320</td>\n",
       "      <td>48</td>\n",
       "      <td>750</td>\n",
       "      <td>NaN</td>\n",
       "      <td>FR</td>\n",
       "      <td>1,4,6,8,10,11,12,14,15,16,18</td>\n",
       "      <td>1</td>\n",
       "      <td>45</td>\n",
       "      <td>51</td>\n",
       "      <td>12</td>\n",
       "      <td>NaN</td>\n",
       "      <td>NaN</td>\n",
       "      <td>0</td>\n",
       "    </tr>\n",
       "    <tr>\n",
       "      <th>4</th>\n",
       "      <td>891880212</td>\n",
       "      <td>54</td>\n",
       "      <td>638</td>\n",
       "      <td>NaN</td>\n",
       "      <td>US</td>\n",
       "      <td>1</td>\n",
       "      <td>1</td>\n",
       "      <td>35</td>\n",
       "      <td>53</td>\n",
       "      <td>94</td>\n",
       "      <td>NaN</td>\n",
       "      <td>NaN</td>\n",
       "      <td>0</td>\n",
       "    </tr>\n",
       "  </tbody>\n",
       "</table>\n",
       "</div>"
      ],
      "text/plain": [
       "     user_id  age  attraction_distribution  coins country  \\\n",
       "0  892035504   37                      137    NaN      IL   \n",
       "1  891782112   57                        0    NaN      IT   \n",
       "2  891110337   30                      769    NaN      FR   \n",
       "3  891796320   48                      750    NaN      FR   \n",
       "4  891880212   54                      638    NaN      US   \n",
       "\n",
       "                 retention_days  sex  user_dating.age_start  \\\n",
       "0       1,2,3,4,5,6,7,8,9,11,13    1                     30   \n",
       "1                             1    1                     54   \n",
       "2                     1,2,3,4,5    1                     27   \n",
       "3  1,4,6,8,10,11,12,14,15,16,18    1                     45   \n",
       "4                             1    1                     35   \n",
       "\n",
       "   user_dating.age_end  view_count  was_special  is_special  total_revenue  \n",
       "0                   40          51          NaN         NaN              0  \n",
       "1                   60           0          NaN         NaN              0  \n",
       "2                   33          13          NaN         NaN              0  \n",
       "3                   51          12          NaN         NaN              0  \n",
       "4                   53          94          NaN         NaN              0  "
      ]
     },
     "execution_count": 7,
     "metadata": {},
     "output_type": "execute_result"
    }
   ],
   "source": [
    "portrait_CG2.head()"
   ]
  },
  {
   "cell_type": "code",
   "execution_count": 8,
   "metadata": {},
   "outputs": [
    {
     "data": {
      "text/html": [
       "<div>\n",
       "<style scoped>\n",
       "    .dataframe tbody tr th:only-of-type {\n",
       "        vertical-align: middle;\n",
       "    }\n",
       "\n",
       "    .dataframe tbody tr th {\n",
       "        vertical-align: top;\n",
       "    }\n",
       "\n",
       "    .dataframe thead th {\n",
       "        text-align: right;\n",
       "    }\n",
       "</style>\n",
       "<table border=\"1\" class=\"dataframe\">\n",
       "  <thead>\n",
       "    <tr style=\"text-align: right;\">\n",
       "      <th></th>\n",
       "      <th>user_id</th>\n",
       "      <th>age</th>\n",
       "      <th>attraction_distribution</th>\n",
       "      <th>coins</th>\n",
       "      <th>country</th>\n",
       "      <th>retention_days</th>\n",
       "      <th>sex</th>\n",
       "      <th>user_dating.age_start</th>\n",
       "      <th>user_dating.age_end</th>\n",
       "      <th>view_count</th>\n",
       "      <th>was_special</th>\n",
       "      <th>is_special</th>\n",
       "      <th>total_revenue</th>\n",
       "    </tr>\n",
       "  </thead>\n",
       "  <tbody>\n",
       "    <tr>\n",
       "      <th>0</th>\n",
       "      <td>892309896</td>\n",
       "      <td>27</td>\n",
       "      <td>685</td>\n",
       "      <td>NaN</td>\n",
       "      <td>US</td>\n",
       "      <td>1,2,3,4,5,6,7,8,9,10,11,12,16,17</td>\n",
       "      <td>1</td>\n",
       "      <td>24</td>\n",
       "      <td>30</td>\n",
       "      <td>89</td>\n",
       "      <td>NaN</td>\n",
       "      <td>NaN</td>\n",
       "      <td>0</td>\n",
       "    </tr>\n",
       "    <tr>\n",
       "      <th>1</th>\n",
       "      <td>892044516</td>\n",
       "      <td>27</td>\n",
       "      <td>0</td>\n",
       "      <td>NaN</td>\n",
       "      <td>DE</td>\n",
       "      <td>NaN</td>\n",
       "      <td>1</td>\n",
       "      <td>24</td>\n",
       "      <td>30</td>\n",
       "      <td>0</td>\n",
       "      <td>NaN</td>\n",
       "      <td>NaN</td>\n",
       "      <td>0</td>\n",
       "    </tr>\n",
       "    <tr>\n",
       "      <th>2</th>\n",
       "      <td>892185708</td>\n",
       "      <td>45</td>\n",
       "      <td>44</td>\n",
       "      <td>NaN</td>\n",
       "      <td>IL</td>\n",
       "      <td>1,3,4,6,7,8,10,11,12,13,14,15,16,17,18,19,20,2...</td>\n",
       "      <td>1</td>\n",
       "      <td>42</td>\n",
       "      <td>48</td>\n",
       "      <td>68</td>\n",
       "      <td>NaN</td>\n",
       "      <td>NaN</td>\n",
       "      <td>0</td>\n",
       "    </tr>\n",
       "    <tr>\n",
       "      <th>3</th>\n",
       "      <td>892130292</td>\n",
       "      <td>32</td>\n",
       "      <td>0</td>\n",
       "      <td>NaN</td>\n",
       "      <td>US</td>\n",
       "      <td>1,2,3,4,5,6,7,8,9,10,11,12</td>\n",
       "      <td>1</td>\n",
       "      <td>29</td>\n",
       "      <td>35</td>\n",
       "      <td>0</td>\n",
       "      <td>NaN</td>\n",
       "      <td>NaN</td>\n",
       "      <td>0</td>\n",
       "    </tr>\n",
       "    <tr>\n",
       "      <th>4</th>\n",
       "      <td>891406035</td>\n",
       "      <td>27</td>\n",
       "      <td>1000</td>\n",
       "      <td>NaN</td>\n",
       "      <td>FR</td>\n",
       "      <td>NaN</td>\n",
       "      <td>1</td>\n",
       "      <td>24</td>\n",
       "      <td>30</td>\n",
       "      <td>1</td>\n",
       "      <td>1.0</td>\n",
       "      <td>NaN</td>\n",
       "      <td>0</td>\n",
       "    </tr>\n",
       "  </tbody>\n",
       "</table>\n",
       "</div>"
      ],
      "text/plain": [
       "     user_id  age  attraction_distribution  coins country  \\\n",
       "0  892309896   27                      685    NaN      US   \n",
       "1  892044516   27                        0    NaN      DE   \n",
       "2  892185708   45                       44    NaN      IL   \n",
       "3  892130292   32                        0    NaN      US   \n",
       "4  891406035   27                     1000    NaN      FR   \n",
       "\n",
       "                                      retention_days  sex  \\\n",
       "0                   1,2,3,4,5,6,7,8,9,10,11,12,16,17    1   \n",
       "1                                                NaN    1   \n",
       "2  1,3,4,6,7,8,10,11,12,13,14,15,16,17,18,19,20,2...    1   \n",
       "3                         1,2,3,4,5,6,7,8,9,10,11,12    1   \n",
       "4                                                NaN    1   \n",
       "\n",
       "   user_dating.age_start  user_dating.age_end  view_count  was_special  \\\n",
       "0                     24                   30          89          NaN   \n",
       "1                     24                   30           0          NaN   \n",
       "2                     42                   48          68          NaN   \n",
       "3                     29                   35           0          NaN   \n",
       "4                     24                   30           1          1.0   \n",
       "\n",
       "   is_special  total_revenue  \n",
       "0         NaN              0  \n",
       "1         NaN              0  \n",
       "2         NaN              0  \n",
       "3         NaN              0  \n",
       "4         NaN              0  "
      ]
     },
     "execution_count": 8,
     "metadata": {},
     "output_type": "execute_result"
    }
   ],
   "source": [
    "portrait_TG.head()"
   ]
  },
  {
   "cell_type": "code",
   "execution_count": 9,
   "metadata": {},
   "outputs": [
    {
     "name": "stdout",
     "output_type": "stream",
     "text": [
      "Кол. записей гр.1  (4340, 13)\n",
      "Кол. записей гр.2  (4264, 13)\n",
      "Кол. записей гр. тестовая  (4308, 13)\n"
     ]
    }
   ],
   "source": [
    "print(f'Кол. записей гр.1  {portrait_CG1.shape}')\n",
    "print(f'Кол. записей гр.2  {portrait_CG2.shape}')\n",
    "print(f'Кол. записей гр. тестовая  {portrait_TG.shape}')"
   ]
  },
  {
   "cell_type": "code",
   "execution_count": 10,
   "metadata": {},
   "outputs": [
    {
     "name": "stdout",
     "output_type": "stream",
     "text": [
      "Кол. записей  платежи гр.1  (1007, 8)\n",
      "Кол. записей платежи гр.2  (328, 8)\n",
      "Кол. записей платежи гр. тестовая  (273, 8)\n"
     ]
    }
   ],
   "source": [
    "print(f'Кол. записей  платежи гр.1  {payments_CG1.shape}')\n",
    "print(f'Кол. записей платежи гр.2  {payments_CG2.shape}')\n",
    "print(f'Кол. записей платежи гр. тестовая  {payments_TG.shape}')"
   ]
  },
  {
   "cell_type": "markdown",
   "metadata": {},
   "source": [
    "### Количество платежей по второй группе по сравнению с первой значительно меньше, при одинаковом кол. пользователей в этих группах."
   ]
  },
  {
   "cell_type": "code",
   "execution_count": 93,
   "metadata": {
    "scrolled": true
   },
   "outputs": [
    {
     "data": {
      "text/plain": [
       "7351.5"
      ]
     },
     "execution_count": 93,
     "metadata": {},
     "output_type": "execute_result"
    }
   ],
   "source": [
    "payments_CG1[payments_CG1['product_type'] == 'prem']['revenue'].mean()"
   ]
  },
  {
   "cell_type": "code",
   "execution_count": 92,
   "metadata": {
    "scrolled": true
   },
   "outputs": [
    {
     "data": {
      "text/plain": [
       "6960.8317757009345"
      ]
     },
     "execution_count": 92,
     "metadata": {},
     "output_type": "execute_result"
    }
   ],
   "source": [
    "payments_CG2[payments_CG2['product_type'] == 'prem']['revenue'].mean()"
   ]
  },
  {
   "cell_type": "code",
   "execution_count": 94,
   "metadata": {
    "scrolled": true
   },
   "outputs": [
    {
     "data": {
      "text/plain": [
       "10667.184210526315"
      ]
     },
     "execution_count": 94,
     "metadata": {},
     "output_type": "execute_result"
    }
   ],
   "source": [
    "payments_TG[payments_TG['product_type'] == 'prem']['revenue'].mean()"
   ]
  },
  {
   "cell_type": "markdown",
   "metadata": {},
   "source": [
    "### Исходя из данных платежей, среднее значение в контрольной группе не увеличилось в 2 раза. Но среднее значение выросло."
   ]
  },
  {
   "cell_type": "code",
   "execution_count": 72,
   "metadata": {
    "scrolled": true
   },
   "outputs": [
    {
     "data": {
      "text/plain": [
       "0.0    0.963556\n",
       "1.0    0.036444\n",
       "Name: is_special, dtype: float64"
      ]
     },
     "execution_count": 72,
     "metadata": {},
     "output_type": "execute_result"
    }
   ],
   "source": [
    "portrait_TG['is_special'].value_counts(normalize = True)"
   ]
  },
  {
   "cell_type": "code",
   "execution_count": 96,
   "metadata": {
    "scrolled": true
   },
   "outputs": [
    {
     "data": {
      "text/plain": [
       "0.0    0.95576\n",
       "1.0    0.04424\n",
       "Name: is_special, dtype: float64"
      ]
     },
     "execution_count": 96,
     "metadata": {},
     "output_type": "execute_result"
    }
   ],
   "source": [
    "portrait_CG1['is_special'].value_counts(normalize = True)"
   ]
  },
  {
   "cell_type": "code",
   "execution_count": 97,
   "metadata": {
    "scrolled": true
   },
   "outputs": [
    {
     "data": {
      "text/plain": [
       "0.0    0.955206\n",
       "1.0    0.044794\n",
       "Name: is_special, dtype: float64"
      ]
     },
     "execution_count": 97,
     "metadata": {},
     "output_type": "execute_result"
    }
   ],
   "source": [
    "portrait_CG2['is_special'].value_counts(normalize = True)"
   ]
  },
  {
   "cell_type": "markdown",
   "metadata": {},
   "source": [
    "### На текущий момент процентное соотношение пользователей в контрольной группе с премиум подпиской не значительно снизилось относительно тестовых групп.(можно было ожидать что при повышении платы в 2 раза они могли отказаться от премиум подписки)"
   ]
  },
  {
   "cell_type": "markdown",
   "metadata": {},
   "source": [
    "#### для независисых выборо для сравнения средних можно применить t-критерий Стьюдента, но распределние не нормальное, поэтому буду применять непараметрический тест."
   ]
  },
  {
   "cell_type": "code",
   "execution_count": 106,
   "metadata": {},
   "outputs": [
    {
     "data": {
      "text/plain": [
       "<matplotlib.axes._subplots.AxesSubplot at 0x22211687b50>"
      ]
     },
     "execution_count": 106,
     "metadata": {},
     "output_type": "execute_result"
    },
    {
     "data": {
      "image/png": "[encoded data removed]",
      "text/plain": [
       "<Figure size 432x288 with 1 Axes>"
      ]
     },
     "metadata": {
      "needs_background": "light"
     },
     "output_type": "display_data"
    }
   ],
   "source": [
    "portrait_CG2['total_revenue'].hist(bins=20)"
   ]
  },
  {
   "cell_type": "code",
   "execution_count": 107,
   "metadata": {},
   "outputs": [
    {
     "data": {
      "text/plain": [
       "<matplotlib.axes._subplots.AxesSubplot at 0x222126fe850>"
      ]
     },
     "execution_count": 107,
     "metadata": {},
     "output_type": "execute_result"
    },
    {
     "data": {
      "image/png": "[encoded data removed]",
      "text/plain": [
       "<Figure size 432x288 with 1 Axes>"
      ]
     },
     "metadata": {
      "needs_background": "light"
     },
     "output_type": "display_data"
    }
   ],
   "source": [
    "sns.boxplot(portrait_CG2['total_revenue'])"
   ]
  },
  {
   "cell_type": "code",
   "execution_count": 85,
   "metadata": {},
   "outputs": [],
   "source": [
    "from scipy.stats import mannwhitneyu"
   ]
  },
  {
   "cell_type": "markdown",
   "metadata": {},
   "source": [
    "### Нулевая гипотеза : суммарная выручка в контрольной группе неизменилась"
   ]
  },
  {
   "cell_type": "code",
   "execution_count": 82,
   "metadata": {
    "scrolled": true
   },
   "outputs": [
    {
     "name": "stdout",
     "output_type": "stream",
     "text": [
      "Средние значения выручки по группам: \n",
      "Тестовая 1 :  594.8\n",
      "Тестовая 2 :  450.4\n",
      "Контрольная :  534.1\n"
     ]
    }
   ],
   "source": [
    "print('Средние значения выручки по группам: ')\n",
    "print('Тестовая 1 : ', round(portrait_CG1['total_revenue'].mean(),1))\n",
    "print('Тестовая 2 : ', round(portrait_CG2['total_revenue'].mean(),1))\n",
    "print('Контрольная : ', round(portrait_TG['total_revenue'].mean(),1))"
   ]
  },
  {
   "cell_type": "code",
   "execution_count": 86,
   "metadata": {},
   "outputs": [],
   "source": [
    "#Отличаются ли среднии в этих группе 2 и контрольной группой\n",
    "stat, p = mannwhitneyu(portrait_CG2['total_revenue'], portrait_TG['total_revenue'])"
   ]
  },
  {
   "cell_type": "code",
   "execution_count": 87,
   "metadata": {
    "scrolled": true
   },
   "outputs": [
    {
     "name": "stdout",
     "output_type": "stream",
     "text": [
      "Statistics=9096934.500, p=0.011\n"
     ]
    }
   ],
   "source": [
    "print('Statistics=%.3f, p=%.3f' % (stat, p))"
   ]
  },
  {
   "cell_type": "code",
   "execution_count": 88,
   "metadata": {
    "scrolled": true
   },
   "outputs": [
    {
     "name": "stdout",
     "output_type": "stream",
     "text": [
      "Средние отличаются (отвергаем нулевую гипотезу)\n"
     ]
    }
   ],
   "source": [
    "alpha = 0.05\n",
    "if p > alpha:\n",
    "    print('Одно распределение (нет оснований отвергнуть нулевую гипотезу)')\n",
    "else:\n",
    "    print('Средние отличаются (отвергаем нулевую гипотезу)')"
   ]
  },
  {
   "cell_type": "markdown",
   "metadata": {},
   "source": [
    "### Наблюдаем значимое увеличение выручки в контрольной группе по сравнению с 2-ой"
   ]
  },
  {
   "cell_type": "code",
   "execution_count": 89,
   "metadata": {},
   "outputs": [],
   "source": [
    "#Аналогично проверим первую группу и тестовую\n",
    "stat, p = mannwhitneyu(portrait_CG1['total_revenue'], portrait_TG['total_revenue'])"
   ]
  },
  {
   "cell_type": "code",
   "execution_count": 90,
   "metadata": {
    "scrolled": false
   },
   "outputs": [
    {
     "name": "stdout",
     "output_type": "stream",
     "text": [
      "Statistics=9254877.500, p=0.008\n"
     ]
    }
   ],
   "source": [
    "print('Statistics=%.3f, p=%.3f' % (stat, p))"
   ]
  },
  {
   "cell_type": "code",
   "execution_count": 91,
   "metadata": {
    "scrolled": false
   },
   "outputs": [
    {
     "name": "stdout",
     "output_type": "stream",
     "text": [
      "Средние отличаются (отвергаем нулевую гипотезу)\n"
     ]
    }
   ],
   "source": [
    "alpha = 0.05\n",
    "if p > alpha:\n",
    "    print('Одно распределение (нет оснований отвергнуть нулевую гипотезу)')\n",
    "else:\n",
    "    print('Средние отличаются (отвергаем нулевую гипотезу)')"
   ]
  },
  {
   "cell_type": "markdown",
   "metadata": {},
   "source": [
    "### Наблюдаем значимое снижение выручки в контрольной группе по сравнению с 1-ой"
   ]
  },
  {
   "cell_type": "code",
   "execution_count": null,
   "metadata": {},
   "outputs": [],
   "source": []
  },
  {
   "cell_type": "code",
   "execution_count": null,
   "metadata": {},
   "outputs": [],
   "source": []
  },
  {
   "cell_type": "code",
   "execution_count": 23,
   "metadata": {},
   "outputs": [],
   "source": [
    "portrait_CG1 = portrait_CG1.fillna(0)"
   ]
  },
  {
   "cell_type": "code",
   "execution_count": 25,
   "metadata": {},
   "outputs": [],
   "source": [
    "portrait_CG2 = portrait_CG2.fillna(0)\n",
    "portrait_TG = portrait_TG.fillna(0)"
   ]
  },
  {
   "cell_type": "code",
   "execution_count": 49,
   "metadata": {},
   "outputs": [
    {
     "data": {
      "text/plain": [
       "(-0.5, 3.5, 0.0, 160.0)"
      ]
     },
     "execution_count": 49,
     "metadata": {},
     "output_type": "execute_result"
    },
    {
     "data": {
      "image/png": "[encoded data removed]",
      "text/plain": [
       "<Figure size 720x360 with 3 Axes>"
      ]
     },
     "metadata": {
      "needs_background": "light"
     },
     "output_type": "display_data"
    }
   ],
   "source": [
    "plt.rcParams['figure.figsize']=(10,5)\n",
    "fig, ax =plt.subplots(1,3)\n",
    "fig = sns.countplot(x = 'product_type', data = payments_TG , order = payments_TG['product_type'].value_counts().index,ax=ax[0])\n",
    "ax[0].set_title('Контрольная группа')\n",
    "fig.axis(ymax=160)\n",
    "fig_1 = sns.countplot(x = 'product_type', data = payments_CG1, order = payments_CG1['product_type'].value_counts().index,ax=ax[1])\n",
    "ax[1].set_title('Группа 1')\n",
    "fig_1.axis(ymax=160)\n",
    "fig_2 = sns.countplot(x = 'product_type', data = payments_CG2, order = payments_CG2['product_type'].value_counts().index,ax=ax[2])\n",
    "ax[2].set_title('Группа 2')\n",
    "fig_2.axis(ymax=160)\n",
    "#Сравнение платежей для типов продуктов  в абсолютном количестве ( без учета кол. в группе)"
   ]
  },
  {
   "cell_type": "code",
   "execution_count": 48,
   "metadata": {},
   "outputs": [
    {
     "name": "stdout",
     "output_type": "stream",
     "text": [
      "<class 'pandas.core.frame.DataFrame'>\n",
      "RangeIndex: 4308 entries, 0 to 4307\n",
      "Data columns (total 13 columns):\n",
      " #   Column                   Non-Null Count  Dtype  \n",
      "---  ------                   --------------  -----  \n",
      " 0   user_id                  4308 non-null   int64  \n",
      " 1   age                      4308 non-null   int64  \n",
      " 2   attraction_distribution  4308 non-null   int64  \n",
      " 3   coins                    49 non-null     float64\n",
      " 4   country                  4308 non-null   object \n",
      " 5   retention_days           2978 non-null   object \n",
      " 6   sex                      4308 non-null   int64  \n",
      " 7   user_dating.age_start    4308 non-null   int64  \n",
      " 8   user_dating.age_end      4308 non-null   int64  \n",
      " 9   view_count               4308 non-null   int64  \n",
      " 10  was_special              408 non-null    float64\n",
      " 11  is_special               157 non-null    float64\n",
      " 12  total_revenue            4308 non-null   int64  \n",
      "dtypes: float64(3), int64(8), object(2)\n",
      "memory usage: 437.7+ KB\n"
     ]
    }
   ],
   "source": [
    "portrait_TG.info()"
   ]
  },
  {
   "cell_type": "code",
   "execution_count": 51,
   "metadata": {},
   "outputs": [
    {
     "name": "stdout",
     "output_type": "stream",
     "text": [
      "<class 'pandas.core.frame.DataFrame'>\n",
      "RangeIndex: 273 entries, 0 to 272\n",
      "Data columns (total 8 columns):\n",
      " #   Column              Non-Null Count  Dtype \n",
      "---  ------              --------------  ----- \n",
      " 0   user_id             273 non-null    int64 \n",
      " 1   registration_date   273 non-null    object\n",
      " 2   payment_date        273 non-null    object\n",
      " 3   revenue             273 non-null    int64 \n",
      " 4   payment_service_id  273 non-null    int64 \n",
      " 5   place               273 non-null    object\n",
      " 6   country             273 non-null    object\n",
      " 7   product_type        273 non-null    object\n",
      "dtypes: int64(3), object(5)\n",
      "memory usage: 17.2+ KB\n"
     ]
    }
   ],
   "source": [
    "payments_TG.info()"
   ]
  },
  {
   "cell_type": "code",
   "execution_count": 23,
   "metadata": {},
   "outputs": [],
   "source": [
    "portrait_CG1 = portrait_CG1.fillna(0)"
   ]
  },
  {
   "cell_type": "code",
   "execution_count": 25,
   "metadata": {},
   "outputs": [],
   "source": [
    "portrait_CG2 = portrait_CG2.fillna(0)\n",
    "portrait_TG = portrait_TG.fillna(0)"
   ]
  },
  {
   "cell_type": "code",
   "execution_count": 26,
   "metadata": {},
   "outputs": [
    {
     "data": {
      "text/plain": [
       "0.0    4151\n",
       "1.0     157\n",
       "Name: is_special, dtype: int64"
      ]
     },
     "execution_count": 26,
     "metadata": {},
     "output_type": "execute_result"
    }
   ],
   "source": [
    "portrait_TG['is_special'].value_counts()"
   ]
  },
  {
   "cell_type": "code",
   "execution_count": 27,
   "metadata": {},
   "outputs": [
    {
     "data": {
      "text/html": [
       "<div>\n",
       "<style scoped>\n",
       "    .dataframe tbody tr th:only-of-type {\n",
       "        vertical-align: middle;\n",
       "    }\n",
       "\n",
       "    .dataframe tbody tr th {\n",
       "        vertical-align: top;\n",
       "    }\n",
       "\n",
       "    .dataframe thead th {\n",
       "        text-align: right;\n",
       "    }\n",
       "</style>\n",
       "<table border=\"1\" class=\"dataframe\">\n",
       "  <thead>\n",
       "    <tr style=\"text-align: right;\">\n",
       "      <th></th>\n",
       "      <th>user_id</th>\n",
       "      <th>age</th>\n",
       "      <th>attraction_distribution</th>\n",
       "      <th>coins</th>\n",
       "      <th>country</th>\n",
       "      <th>retention_days</th>\n",
       "      <th>sex</th>\n",
       "      <th>user_dating.age_start</th>\n",
       "      <th>user_dating.age_end</th>\n",
       "      <th>view_count</th>\n",
       "      <th>was_special</th>\n",
       "      <th>is_special</th>\n",
       "      <th>total_revenue</th>\n",
       "    </tr>\n",
       "  </thead>\n",
       "  <tbody>\n",
       "    <tr>\n",
       "      <th>0</th>\n",
       "      <td>892319115</td>\n",
       "      <td>25</td>\n",
       "      <td>435</td>\n",
       "      <td>0.0</td>\n",
       "      <td>US</td>\n",
       "      <td>1,2,3,4,5,6</td>\n",
       "      <td>0</td>\n",
       "      <td>22</td>\n",
       "      <td>32</td>\n",
       "      <td>982</td>\n",
       "      <td>0.0</td>\n",
       "      <td>0.0</td>\n",
       "      <td>0</td>\n",
       "    </tr>\n",
       "    <tr>\n",
       "      <th>1</th>\n",
       "      <td>891248523</td>\n",
       "      <td>29</td>\n",
       "      <td>500</td>\n",
       "      <td>0.0</td>\n",
       "      <td>US</td>\n",
       "      <td>1,2</td>\n",
       "      <td>1</td>\n",
       "      <td>26</td>\n",
       "      <td>32</td>\n",
       "      <td>12</td>\n",
       "      <td>0.0</td>\n",
       "      <td>0.0</td>\n",
       "      <td>0</td>\n",
       "    </tr>\n",
       "    <tr>\n",
       "      <th>2</th>\n",
       "      <td>891670932</td>\n",
       "      <td>33</td>\n",
       "      <td>800</td>\n",
       "      <td>0.0</td>\n",
       "      <td>FR</td>\n",
       "      <td>1,2,3,5,6,8,9,11,13,16</td>\n",
       "      <td>1</td>\n",
       "      <td>30</td>\n",
       "      <td>36</td>\n",
       "      <td>5</td>\n",
       "      <td>0.0</td>\n",
       "      <td>0.0</td>\n",
       "      <td>0</td>\n",
       "    </tr>\n",
       "    <tr>\n",
       "      <th>3</th>\n",
       "      <td>891060786</td>\n",
       "      <td>26</td>\n",
       "      <td>0</td>\n",
       "      <td>0.0</td>\n",
       "      <td>AR</td>\n",
       "      <td>1,2,3,4,5</td>\n",
       "      <td>1</td>\n",
       "      <td>23</td>\n",
       "      <td>29</td>\n",
       "      <td>0</td>\n",
       "      <td>0.0</td>\n",
       "      <td>0.0</td>\n",
       "      <td>0</td>\n",
       "    </tr>\n",
       "    <tr>\n",
       "      <th>4</th>\n",
       "      <td>892006554</td>\n",
       "      <td>35</td>\n",
       "      <td>294</td>\n",
       "      <td>0.0</td>\n",
       "      <td>US</td>\n",
       "      <td>1,2,3,5,6,7,8,9,10,12,15,16,17,19</td>\n",
       "      <td>1</td>\n",
       "      <td>30</td>\n",
       "      <td>40</td>\n",
       "      <td>17</td>\n",
       "      <td>0.0</td>\n",
       "      <td>0.0</td>\n",
       "      <td>0</td>\n",
       "    </tr>\n",
       "  </tbody>\n",
       "</table>\n",
       "</div>"
      ],
      "text/plain": [
       "     user_id  age  attraction_distribution  coins country  \\\n",
       "0  892319115   25                      435    0.0      US   \n",
       "1  891248523   29                      500    0.0      US   \n",
       "2  891670932   33                      800    0.0      FR   \n",
       "3  891060786   26                        0    0.0      AR   \n",
       "4  892006554   35                      294    0.0      US   \n",
       "\n",
       "                      retention_days  sex  user_dating.age_start  \\\n",
       "0                        1,2,3,4,5,6    0                     22   \n",
       "1                                1,2    1                     26   \n",
       "2             1,2,3,5,6,8,9,11,13,16    1                     30   \n",
       "3                          1,2,3,4,5    1                     23   \n",
       "4  1,2,3,5,6,7,8,9,10,12,15,16,17,19    1                     30   \n",
       "\n",
       "   user_dating.age_end  view_count  was_special  is_special  total_revenue  \n",
       "0                   32         982          0.0         0.0              0  \n",
       "1                   32          12          0.0         0.0              0  \n",
       "2                   36           5          0.0         0.0              0  \n",
       "3                   29           0          0.0         0.0              0  \n",
       "4                   40          17          0.0         0.0              0  "
      ]
     },
     "execution_count": 27,
     "metadata": {},
     "output_type": "execute_result"
    }
   ],
   "source": [
    "portrait_CG1.head()"
   ]
  },
  {
   "cell_type": "code",
   "execution_count": 28,
   "metadata": {},
   "outputs": [
    {
     "data": {
      "text/html": [
       "<div>\n",
       "<style scoped>\n",
       "    .dataframe tbody tr th:only-of-type {\n",
       "        vertical-align: middle;\n",
       "    }\n",
       "\n",
       "    .dataframe tbody tr th {\n",
       "        vertical-align: top;\n",
       "    }\n",
       "\n",
       "    .dataframe thead th {\n",
       "        text-align: right;\n",
       "    }\n",
       "</style>\n",
       "<table border=\"1\" class=\"dataframe\">\n",
       "  <thead>\n",
       "    <tr style=\"text-align: right;\">\n",
       "      <th></th>\n",
       "      <th>user_id</th>\n",
       "      <th>registration_date</th>\n",
       "      <th>payment_date</th>\n",
       "      <th>revenue</th>\n",
       "      <th>payment_service_id</th>\n",
       "      <th>place</th>\n",
       "      <th>country</th>\n",
       "      <th>product_type</th>\n",
       "    </tr>\n",
       "  </thead>\n",
       "  <tbody>\n",
       "    <tr>\n",
       "      <th>0</th>\n",
       "      <td>891345942</td>\n",
       "      <td>05.11.2017 13:00</td>\n",
       "      <td>13.11.2017 15:04</td>\n",
       "      <td>12909</td>\n",
       "      <td>147</td>\n",
       "      <td>TrialVipPopup</td>\n",
       "      <td>IT</td>\n",
       "      <td>trial</td>\n",
       "    </tr>\n",
       "    <tr>\n",
       "      <th>1</th>\n",
       "      <td>892054251</td>\n",
       "      <td>22.10.2017 0:33</td>\n",
       "      <td>30.10.2017 1:37</td>\n",
       "      <td>13923</td>\n",
       "      <td>147</td>\n",
       "      <td>TrialVipPopup</td>\n",
       "      <td>US</td>\n",
       "      <td>trial</td>\n",
       "    </tr>\n",
       "    <tr>\n",
       "      <th>2</th>\n",
       "      <td>892236423</td>\n",
       "      <td>18.10.2017 1:09</td>\n",
       "      <td>23.10.2017 0:15</td>\n",
       "      <td>3783</td>\n",
       "      <td>67</td>\n",
       "      <td>Menu</td>\n",
       "      <td>US</td>\n",
       "      <td>other</td>\n",
       "    </tr>\n",
       "    <tr>\n",
       "      <th>3</th>\n",
       "      <td>892236423</td>\n",
       "      <td>18.10.2017 1:09</td>\n",
       "      <td>27.10.2017 22:38</td>\n",
       "      <td>3783</td>\n",
       "      <td>67</td>\n",
       "      <td>Menu</td>\n",
       "      <td>US</td>\n",
       "      <td>other</td>\n",
       "    </tr>\n",
       "    <tr>\n",
       "      <th>4</th>\n",
       "      <td>892168170</td>\n",
       "      <td>19.10.2017 17:10</td>\n",
       "      <td>27.10.2017 19:10</td>\n",
       "      <td>9087</td>\n",
       "      <td>147</td>\n",
       "      <td>TrialVipPopup</td>\n",
       "      <td>US</td>\n",
       "      <td>trial</td>\n",
       "    </tr>\n",
       "  </tbody>\n",
       "</table>\n",
       "</div>"
      ],
      "text/plain": [
       "     user_id registration_date      payment_date  revenue  payment_service_id  \\\n",
       "0  891345942  05.11.2017 13:00  13.11.2017 15:04    12909                 147   \n",
       "1  892054251   22.10.2017 0:33   30.10.2017 1:37    13923                 147   \n",
       "2  892236423   18.10.2017 1:09   23.10.2017 0:15     3783                  67   \n",
       "3  892236423   18.10.2017 1:09  27.10.2017 22:38     3783                  67   \n",
       "4  892168170  19.10.2017 17:10  27.10.2017 19:10     9087                 147   \n",
       "\n",
       "           place country product_type  \n",
       "0  TrialVipPopup      IT        trial  \n",
       "1  TrialVipPopup      US        trial  \n",
       "2           Menu      US        other  \n",
       "3           Menu      US        other  \n",
       "4  TrialVipPopup      US        trial  "
      ]
     },
     "execution_count": 28,
     "metadata": {},
     "output_type": "execute_result"
    }
   ],
   "source": [
    "payments_TG.head()"
   ]
  },
  {
   "cell_type": "code",
   "execution_count": 51,
   "metadata": {},
   "outputs": [
    {
     "data": {
      "text/plain": [
       "0.2783882783882784"
      ]
     },
     "execution_count": 51,
     "metadata": {},
     "output_type": "execute_result"
    }
   ],
   "source": [
    "payments_TG[payments_TG['product_type'] == 'prem'].shape[0] / payments_TG.shape[0]"
   ]
  },
  {
   "cell_type": "code",
   "execution_count": 52,
   "metadata": {},
   "outputs": [
    {
     "data": {
      "text/plain": [
       "0.10526315789473684"
      ]
     },
     "execution_count": 52,
     "metadata": {},
     "output_type": "execute_result"
    }
   ],
   "source": [
    "payments_CG1[payments_CG1['product_type'] == 'prem'].shape[0] / payments_CG1.shape[0]"
   ]
  },
  {
   "cell_type": "code",
   "execution_count": 53,
   "metadata": {},
   "outputs": [
    {
     "data": {
      "text/plain": [
       "0.32621951219512196"
      ]
     },
     "execution_count": 53,
     "metadata": {},
     "output_type": "execute_result"
    }
   ],
   "source": [
    "payments_CG2[payments_CG2['product_type'] == 'prem'].shape[0] / payments_CG2.shape[0]"
   ]
  },
  {
   "cell_type": "code",
   "execution_count": null,
   "metadata": {},
   "outputs": [],
   "source": [
    "fig, ax =plt.subplots(1,3)\n",
    "sns.boxplot(payments_CG2['revenue'])"
   ]
  },
  {
   "cell_type": "code",
   "execution_count": 83,
   "metadata": {},
   "outputs": [
    {
     "data": {
      "text/plain": [
       "<matplotlib.axes._subplots.AxesSubplot at 0x22210d4d220>"
      ]
     },
     "execution_count": 83,
     "metadata": {},
     "output_type": "execute_result"
    },
    {
     "data": {
      "image/png": "[encoded data removed]",
      "text/plain": [
       "<Figure size 432x288 with 1 Axes>"
      ]
     },
     "metadata": {
      "needs_background": "light"
     },
     "output_type": "display_data"
    }
   ],
   "source": [
    "sns.boxplot(x='product_type', y=payments_CG2['revenue'], data=payments_CG2)"
   ]
  },
  {
   "cell_type": "code",
   "execution_count": 84,
   "metadata": {},
   "outputs": [
    {
     "data": {
      "text/plain": [
       "<matplotlib.axes._subplots.AxesSubplot at 0x22210df3280>"
      ]
     },
     "execution_count": 84,
     "metadata": {},
     "output_type": "execute_result"
    },
    {
     "data": {
      "image/png": "[encoded data removed]",
      "text/plain": [
       "<Figure size 432x288 with 1 Axes>"
      ]
     },
     "metadata": {
      "needs_background": "light"
     },
     "output_type": "display_data"
    }
   ],
   "source": [
    "sns.boxplot(x='product_type', y=payments_CG1['revenue'], data=payments_CG1)"
   ]
  },
  {
   "cell_type": "code",
   "execution_count": 85,
   "metadata": {},
   "outputs": [
    {
     "data": {
      "text/plain": [
       "<matplotlib.axes._subplots.AxesSubplot at 0x22210e8b6a0>"
      ]
     },
     "execution_count": 85,
     "metadata": {},
     "output_type": "execute_result"
    },
    {
     "data": {
      "image/png": "[encoded data removed]",
      "text/plain": [
       "<Figure size 432x288 with 1 Axes>"
      ]
     },
     "metadata": {
      "needs_background": "light"
     },
     "output_type": "display_data"
    }
   ],
   "source": [
    "sns.boxplot(x='product_type', y=payments_TG['revenue'], data=payments_TG)"
   ]
  },
  {
   "cell_type": "code",
   "execution_count": 88,
   "metadata": {},
   "outputs": [
    {
     "data": {
      "text/html": [
       "<div>\n",
       "<style scoped>\n",
       "    .dataframe tbody tr th:only-of-type {\n",
       "        vertical-align: middle;\n",
       "    }\n",
       "\n",
       "    .dataframe tbody tr th {\n",
       "        vertical-align: top;\n",
       "    }\n",
       "\n",
       "    .dataframe thead th {\n",
       "        text-align: right;\n",
       "    }\n",
       "</style>\n",
       "<table border=\"1\" class=\"dataframe\">\n",
       "  <thead>\n",
       "    <tr style=\"text-align: right;\">\n",
       "      <th></th>\n",
       "      <th>user_id</th>\n",
       "      <th>registration_date</th>\n",
       "      <th>payment_date</th>\n",
       "      <th>revenue</th>\n",
       "      <th>payment_service_id</th>\n",
       "      <th>place</th>\n",
       "      <th>country</th>\n",
       "      <th>product_type</th>\n",
       "    </tr>\n",
       "  </thead>\n",
       "  <tbody>\n",
       "    <tr>\n",
       "      <th>5</th>\n",
       "      <td>892426491</td>\n",
       "      <td>14.10.2017 10:13</td>\n",
       "      <td>15.10.2017 22:39</td>\n",
       "      <td>12597</td>\n",
       "      <td>147</td>\n",
       "      <td>AutoReplyMessage</td>\n",
       "      <td>US</td>\n",
       "      <td>prem</td>\n",
       "    </tr>\n",
       "    <tr>\n",
       "      <th>6</th>\n",
       "      <td>891558921</td>\n",
       "      <td>01.11.2017 3:07</td>\n",
       "      <td>10.11.2017 9:05</td>\n",
       "      <td>9100</td>\n",
       "      <td>147</td>\n",
       "      <td>LeftMenu</td>\n",
       "      <td>US</td>\n",
       "      <td>prem</td>\n",
       "    </tr>\n",
       "    <tr>\n",
       "      <th>11</th>\n",
       "      <td>891861048</td>\n",
       "      <td>26.10.2017 2:55</td>\n",
       "      <td>10.11.2017 19:00</td>\n",
       "      <td>3588</td>\n",
       "      <td>68</td>\n",
       "      <td>none</td>\n",
       "      <td>CA</td>\n",
       "      <td>prem</td>\n",
       "    </tr>\n",
       "    <tr>\n",
       "      <th>12</th>\n",
       "      <td>891178380</td>\n",
       "      <td>08.11.2017 3:54</td>\n",
       "      <td>09.11.2017 21:53</td>\n",
       "      <td>113477</td>\n",
       "      <td>147</td>\n",
       "      <td>promo.key31</td>\n",
       "      <td>ES</td>\n",
       "      <td>prem</td>\n",
       "    </tr>\n",
       "    <tr>\n",
       "      <th>21</th>\n",
       "      <td>891312873</td>\n",
       "      <td>05.11.2017 21:22</td>\n",
       "      <td>10.11.2017 21:51</td>\n",
       "      <td>7852</td>\n",
       "      <td>147</td>\n",
       "      <td>promo.key31</td>\n",
       "      <td>IT</td>\n",
       "      <td>prem</td>\n",
       "    </tr>\n",
       "    <tr>\n",
       "      <th>...</th>\n",
       "      <td>...</td>\n",
       "      <td>...</td>\n",
       "      <td>...</td>\n",
       "      <td>...</td>\n",
       "      <td>...</td>\n",
       "      <td>...</td>\n",
       "      <td>...</td>\n",
       "      <td>...</td>\n",
       "    </tr>\n",
       "    <tr>\n",
       "      <th>262</th>\n",
       "      <td>891692940</td>\n",
       "      <td>29.10.2017 15:40</td>\n",
       "      <td>29.10.2017 15:43</td>\n",
       "      <td>9100</td>\n",
       "      <td>147</td>\n",
       "      <td>AutoReplyMessage</td>\n",
       "      <td>US</td>\n",
       "      <td>prem</td>\n",
       "    </tr>\n",
       "    <tr>\n",
       "      <th>265</th>\n",
       "      <td>891572565</td>\n",
       "      <td>31.10.2017 20:40</td>\n",
       "      <td>05.11.2017 13:32</td>\n",
       "      <td>9217</td>\n",
       "      <td>147</td>\n",
       "      <td>promo.key31</td>\n",
       "      <td>AE</td>\n",
       "      <td>prem</td>\n",
       "    </tr>\n",
       "    <tr>\n",
       "      <th>266</th>\n",
       "      <td>891478452</td>\n",
       "      <td>02.11.2017 23:29</td>\n",
       "      <td>12.11.2017 0:11</td>\n",
       "      <td>8697</td>\n",
       "      <td>147</td>\n",
       "      <td>AutoReplyMessage</td>\n",
       "      <td>AE</td>\n",
       "      <td>prem</td>\n",
       "    </tr>\n",
       "    <tr>\n",
       "      <th>267</th>\n",
       "      <td>891414915</td>\n",
       "      <td>04.11.2017 9:06</td>\n",
       "      <td>04.11.2017 9:56</td>\n",
       "      <td>6292</td>\n",
       "      <td>147</td>\n",
       "      <td>AutoReplyMessage</td>\n",
       "      <td>AR</td>\n",
       "      <td>prem</td>\n",
       "    </tr>\n",
       "    <tr>\n",
       "      <th>269</th>\n",
       "      <td>891447105</td>\n",
       "      <td>03.11.2017 17:05</td>\n",
       "      <td>11.11.2017 4:23</td>\n",
       "      <td>7319</td>\n",
       "      <td>147</td>\n",
       "      <td>Fans</td>\n",
       "      <td>GB</td>\n",
       "      <td>prem</td>\n",
       "    </tr>\n",
       "  </tbody>\n",
       "</table>\n",
       "<p>76 rows × 8 columns</p>\n",
       "</div>"
      ],
      "text/plain": [
       "       user_id registration_date      payment_date  revenue  \\\n",
       "5    892426491  14.10.2017 10:13  15.10.2017 22:39    12597   \n",
       "6    891558921   01.11.2017 3:07   10.11.2017 9:05     9100   \n",
       "11   891861048   26.10.2017 2:55  10.11.2017 19:00     3588   \n",
       "12   891178380   08.11.2017 3:54  09.11.2017 21:53   113477   \n",
       "21   891312873  05.11.2017 21:22  10.11.2017 21:51     7852   \n",
       "..         ...               ...               ...      ...   \n",
       "262  891692940  29.10.2017 15:40  29.10.2017 15:43     9100   \n",
       "265  891572565  31.10.2017 20:40  05.11.2017 13:32     9217   \n",
       "266  891478452  02.11.2017 23:29   12.11.2017 0:11     8697   \n",
       "267  891414915   04.11.2017 9:06   04.11.2017 9:56     6292   \n",
       "269  891447105  03.11.2017 17:05   11.11.2017 4:23     7319   \n",
       "\n",
       "     payment_service_id             place country product_type  \n",
       "5                   147  AutoReplyMessage      US         prem  \n",
       "6                   147          LeftMenu      US         prem  \n",
       "11                   68              none      CA         prem  \n",
       "12                  147       promo.key31      ES         prem  \n",
       "21                  147       promo.key31      IT         prem  \n",
       "..                  ...               ...     ...          ...  \n",
       "262                 147  AutoReplyMessage      US         prem  \n",
       "265                 147       promo.key31      AE         prem  \n",
       "266                 147  AutoReplyMessage      AE         prem  \n",
       "267                 147  AutoReplyMessage      AR         prem  \n",
       "269                 147              Fans      GB         prem  \n",
       "\n",
       "[76 rows x 8 columns]"
      ]
     },
     "execution_count": 88,
     "metadata": {},
     "output_type": "execute_result"
    }
   ],
   "source": [
    "payments_TG[payments_TG['product_type'] == 'prem']"
   ]
  },
  {
   "cell_type": "code",
   "execution_count": null,
   "metadata": {},
   "outputs": [],
   "source": []
  },
  {
   "cell_type": "code",
   "execution_count": 89,
   "metadata": {},
   "outputs": [
    {
     "data": {
      "text/plain": [
       "<matplotlib.axes._subplots.AxesSubplot at 0x22210f1e130>"
      ]
     },
     "execution_count": 89,
     "metadata": {},
     "output_type": "execute_result"
    },
    {
     "data": {
      "image/png": "[encoded data removed]",
      "text/plain": [
       "<Figure size 432x288 with 1 Axes>"
      ]
     },
     "metadata": {
      "needs_background": "light"
     },
     "output_type": "display_data"
    }
   ],
   "source": [
    "sns.boxplot(payments_TG[payments_TG['product_type'] == 'prem']['revenue'])"
   ]
  },
  {
   "cell_type": "code",
   "execution_count": 90,
   "metadata": {},
   "outputs": [
    {
     "data": {
      "text/plain": [
       "<matplotlib.axes._subplots.AxesSubplot at 0x22211134ee0>"
      ]
     },
     "execution_count": 90,
     "metadata": {},
     "output_type": "execute_result"
    },
    {
     "data": {
      "image/png": "[encoded data removed]",
      "text/plain": [
       "<Figure size 432x288 with 1 Axes>"
      ]
     },
     "metadata": {
      "needs_background": "light"
     },
     "output_type": "display_data"
    }
   ],
   "source": [
    "sns.boxplot(payments_CG1[payments_CG1['product_type'] == 'prem']['revenue'])"
   ]
  },
  {
   "cell_type": "code",
   "execution_count": 91,
   "metadata": {},
   "outputs": [
    {
     "data": {
      "text/plain": [
       "<matplotlib.axes._subplots.AxesSubplot at 0x2221118bdf0>"
      ]
     },
     "execution_count": 91,
     "metadata": {},
     "output_type": "execute_result"
    },
    {
     "data": {
      "image/png": "[encoded data removed]",
      "text/plain": [
       "<Figure size 432x288 with 1 Axes>"
      ]
     },
     "metadata": {
      "needs_background": "light"
     },
     "output_type": "display_data"
    }
   ],
   "source": [
    "sns.boxplot(payments_CG2[payments_CG2['product_type'] == 'prem']['revenue'])"
   ]
  },
  {
   "cell_type": "code",
   "execution_count": null,
   "metadata": {},
   "outputs": [],
   "source": []
  }
 ],
 "metadata": {
  "kernelspec": {
   "display_name": "Python 3",
   "language": "python",
   "name": "python3"
  },
  "language_info": {
   "codemirror_mode": {
    "name": "ipython",
    "version": 3
   },
   "file_extension": ".py",
   "mimetype": "text/x-python",
   "name": "python",
   "nbconvert_exporter": "python",
   "pygments_lexer": "ipython3",
   "version": "3.8.3"
  }
 },
 "nbformat": 4,
 "nbformat_minor": 4
}
